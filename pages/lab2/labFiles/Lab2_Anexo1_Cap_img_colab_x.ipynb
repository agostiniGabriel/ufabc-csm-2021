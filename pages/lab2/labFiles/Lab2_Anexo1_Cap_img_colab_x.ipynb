{
  "nbformat": 4,
  "nbformat_minor": 0,
  "metadata": {
    "colab": {
      "name": "Lab2_Anexo1_Cap_img_colab_x.ipynb",
      "provenance": [],
      "collapsed_sections": []
    },
    "kernelspec": {
      "name": "python3",
      "display_name": "Python 3"
    }
  },
  "cells": [
    {
      "cell_type": "markdown",
      "metadata": {
        "id": "A9XX-CKXhluq"
      },
      "source": [
        "# Lab2 - Anexo 1 - Captura de Imagem pelo Colab\n",
        "\n"
      ]
    },
    {
      "cell_type": "markdown",
      "metadata": {
        "id": "F15jFd0StfZL"
      },
      "source": [
        "Primeiro monte o drive"
      ]
    },
    {
      "cell_type": "code",
      "metadata": {
        "id": "4-YmWQ5GntYt"
      },
      "source": [
        "from google.colab import drive\n",
        "drive.mount('/content/drive/')"
      ],
      "execution_count": null,
      "outputs": []
    },
    {
      "cell_type": "markdown",
      "metadata": {
        "id": "gW6yuEw3k3bD"
      },
      "source": [
        "### Captura de Imagem da Camera usando uma webcam\n",
        "\n",
        "Execute o código JavaScript abaixo para definir a função de captura e o botão de fotografar"
      ]
    },
    {
      "cell_type": "code",
      "metadata": {
        "id": "vRusSOjInopL"
      },
      "source": [
        "from IPython.display import display, Javascript\n",
        "from google.colab.output import eval_js\n",
        "from base64 import b64decode"
      ],
      "execution_count": null,
      "outputs": []
    },
    {
      "cell_type": "code",
      "metadata": {
        "id": "SucxddsPhOmj"
      },
      "source": [
        "def take_photo(filename, quality):\n",
        "  js = Javascript('''\n",
        "    async function takePhoto(quality) {\n",
        "      const div = document.createElement('div');\n",
        "      const capture = document.createElement('button');\n",
        "      capture.textContent = 'Capture';\n",
        "      div.appendChild(capture);\n",
        "\n",
        "      const video = document.createElement('video');\n",
        "      video.style.display = 'block';\n",
        "      const stream = await navigator.mediaDevices.getUserMedia({video: true});\n",
        "\n",
        "      document.body.appendChild(div);\n",
        "      div.appendChild(video);\n",
        "      video.srcObject = stream;\n",
        "      await video.play();\n",
        "\n",
        "      // Resize the output to fit the video element.\n",
        "      google.colab.output.setIframeHeight(document.documentElement.scrollHeight, true);\n",
        "\n",
        "      // Wait for Capture to be clicked.\n",
        "      await new Promise((resolve) => capture.onclick = resolve);\n",
        "\n",
        "      const canvas = document.createElement('canvas');\n",
        "      canvas.width = video.videoWidth;\n",
        "      canvas.height = video.videoHeight;\n",
        "      canvas.getContext('2d').drawImage(video, 0, 0);\n",
        "      stream.getVideoTracks()[0].stop();\n",
        "      div.remove();\n",
        "      return canvas.toDataURL('image/jpeg', quality);\n",
        "    }\n",
        "    ''')\n",
        "  display(js)\n",
        "  data = eval_js('takePhoto({})'.format(quality))\n",
        "  binary = b64decode(data.split(',')[1])\n",
        "  with open(filename, 'wb') as f:\n",
        "    f.write(binary)\n",
        "  return filename"
      ],
      "execution_count": null,
      "outputs": []
    },
    {
      "cell_type": "markdown",
      "metadata": {
        "id": "4kQY44aHrite"
      },
      "source": [
        "# Captura de uma imagem da Webcam\n",
        "\n",
        "Execute o código abaixo para capturar e mostrar uma foto.\n",
        "\n",
        "Neste exemplo, será salvo no arquivo é \"photo1.jpg\"\n",
        "\n",
        "Mude o nome do arquivo conforme sua necessidade."
      ]
    },
    {
      "cell_type": "code",
      "metadata": {
        "id": "JB_2H2niobT5"
      },
      "source": [
        "from IPython.display import Image\n",
        "import os\n",
        "image_path = \"/content/drive/My Drive/Colab Notebooks/\"\n",
        "filename=os.path.join(image_path,'photo1.jpg')\n",
        "quality=0.8\n",
        "try:\n",
        "  take_photo(filename, quality)\n",
        "\n",
        "  print('Imagem gravada em {}'.format(filename))\n",
        "  \n",
        "  # Show the image which was just taken.\n",
        "  display(Image(filename))\n",
        "except Exception as err:\n",
        "  # Errors will be thrown if the user does not have a webcam or if they do not\n",
        "  # grant the page permission to access it.\n",
        "  print(str(err))"
      ],
      "execution_count": null,
      "outputs": []
    },
    {
      "cell_type": "markdown",
      "metadata": {
        "id": "Y1qaDB76ngSs"
      },
      "source": [
        "### Referência:\n",
        "\n",
        "Adaptado de: **Colab Image Handling.** \n",
        "https://colab.research.google.com/github/jfogarty/machine-learning-intro-workshop/blob/master/colab/examples/Colab_Image_Handling.ipynb"
      ]
    }
  ]
}